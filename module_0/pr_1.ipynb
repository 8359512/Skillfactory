{
 "cells": [
  {
   "cell_type": "code",
   "execution_count": null,
   "metadata": {},
   "outputs": [],
   "source": [
    "import numpy as np\n",
    "number = np.random.randint(1,101) # guessed a number\n",
    "print('Загадано число от 1 до 100')\n",
    "\n",
    "def game_core(number):\n",
    "    '''Enter the number from the middle of the range, then change the range borders \n",
    "    dependingon whether it is more or less necessary. Again enter the number from \n",
    "    the middle of the new range. The featute returns the number of attempts. '''\n",
    "\n",
    "    count  = 1\n",
    "    start = 1\n",
    "    end = 101\n",
    "    predict = int((start+end)/2)\n",
    "    while number != predict:\n",
    "        count += 1\n",
    "        if number >> predict:\n",
    "            start = predict + 1 \n",
    "            predict = int((start+end)/2)\n",
    "        elif number << predict:\n",
    "            end = prediсt - 1\n",
    "            predict = int((start+end)/2)\n",
    "    return(count) # exit from the cycle if you guessed\n",
    "\n",
    "def score_game(game_core):\n",
    "    '''Start the game 1000 times to find out how fast the game guesses the number'''\n",
    "    \n",
    "    count_ls = []\n",
    "    np.random.seed(1) # fix RANDOM SEED so that the experiment is reproduced\n",
    "    random_array = np.random.randint(1,101,size=(1000))\n",
    "    for number in random_array:\n",
    "        count_ls.append(game_core(number))\n",
    "    score = int(np.mean(count_ls))\n",
    "    print(f'Ваш алгоритм угадывает число в среднем за {score} попыток.')\n",
    "    return(score)\n",
    "    \n",
    "# Check\n",
    "score_game(game_core)\n",
    "\n"
   ]
  }
 ],
 "metadata": {
  "kernelspec": {
   "display_name": "Python 3",
   "language": "python",
   "name": "python3"
  },
  "language_info": {
   "codemirror_mode": {
    "name": "ipython",
    "version": 3
   },
   "file_extension": ".py",
   "mimetype": "text/x-python",
   "name": "python",
   "nbconvert_exporter": "python",
   "pygments_lexer": "ipython3",
   "version": "3.7.3"
  }
 },
 "nbformat": 4,
 "nbformat_minor": 2
}
